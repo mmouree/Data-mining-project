{
  "nbformat": 4,
  "nbformat_minor": 0,
  "metadata": {
    "colab": {
      "name": "Image classification-VGG16",
      "provenance": [],
      "authorship_tag": "ABX9TyMH9xVgrNBS7Le+P6UCmb1m",
      "include_colab_link": true
    },
    "kernelspec": {
      "name": "python3",
      "display_name": "Python 3"
    },
    "language_info": {
      "name": "python"
    },
    "accelerator": "GPU",
    "widgets": {
      "application/vnd.jupyter.widget-state+json": {
        "83cae1f224614de7807059d5413975c1": {
          "model_module": "@jupyter-widgets/controls",
          "model_name": "HBoxModel",
          "model_module_version": "1.5.0",
          "state": {
            "_dom_classes": [],
            "_model_module": "@jupyter-widgets/controls",
            "_model_module_version": "1.5.0",
            "_model_name": "HBoxModel",
            "_view_count": null,
            "_view_module": "@jupyter-widgets/controls",
            "_view_module_version": "1.5.0",
            "_view_name": "HBoxView",
            "box_style": "",
            "children": [
              "IPY_MODEL_263ae629ab2d434a8927da2edb2c0424",
              "IPY_MODEL_f57d36cbae9c4f1d813c82672dacd66c",
              "IPY_MODEL_7f8e728f1a3947eda9bfc85012dac002"
            ],
            "layout": "IPY_MODEL_04c3eb271ba94cbd91adc21d2f30ed90"
          }
        },
        "263ae629ab2d434a8927da2edb2c0424": {
          "model_module": "@jupyter-widgets/controls",
          "model_name": "HTMLModel",
          "model_module_version": "1.5.0",
          "state": {
            "_dom_classes": [],
            "_model_module": "@jupyter-widgets/controls",
            "_model_module_version": "1.5.0",
            "_model_name": "HTMLModel",
            "_view_count": null,
            "_view_module": "@jupyter-widgets/controls",
            "_view_module_version": "1.5.0",
            "_view_name": "HTMLView",
            "description": "",
            "description_tooltip": null,
            "layout": "IPY_MODEL_45f5380b610b43609f8d0f5b010fcabd",
            "placeholder": "​",
            "style": "IPY_MODEL_3233883916204c22b10c970bf07d8009",
            "value": ""
          }
        },
        "f57d36cbae9c4f1d813c82672dacd66c": {
          "model_module": "@jupyter-widgets/controls",
          "model_name": "FloatProgressModel",
          "model_module_version": "1.5.0",
          "state": {
            "_dom_classes": [],
            "_model_module": "@jupyter-widgets/controls",
            "_model_module_version": "1.5.0",
            "_model_name": "FloatProgressModel",
            "_view_count": null,
            "_view_module": "@jupyter-widgets/controls",
            "_view_module_version": "1.5.0",
            "_view_name": "ProgressView",
            "bar_style": "success",
            "description": "",
            "description_tooltip": null,
            "layout": "IPY_MODEL_316f4af3abf14d5b8546e32a2af1be49",
            "max": 170498071,
            "min": 0,
            "orientation": "horizontal",
            "style": "IPY_MODEL_60e2dfe04f124af5ab79fd71fab6af32",
            "value": 170498071
          }
        },
        "7f8e728f1a3947eda9bfc85012dac002": {
          "model_module": "@jupyter-widgets/controls",
          "model_name": "HTMLModel",
          "model_module_version": "1.5.0",
          "state": {
            "_dom_classes": [],
            "_model_module": "@jupyter-widgets/controls",
            "_model_module_version": "1.5.0",
            "_model_name": "HTMLModel",
            "_view_count": null,
            "_view_module": "@jupyter-widgets/controls",
            "_view_module_version": "1.5.0",
            "_view_name": "HTMLView",
            "description": "",
            "description_tooltip": null,
            "layout": "IPY_MODEL_ac965b9064b34acc9a1aeecfec62caa0",
            "placeholder": "​",
            "style": "IPY_MODEL_b6d30f11d9ae454ba41e9aa93bb4d362",
            "value": " 170499072/? [00:13&lt;00:00, 13010222.10it/s]"
          }
        },
        "04c3eb271ba94cbd91adc21d2f30ed90": {
          "model_module": "@jupyter-widgets/base",
          "model_name": "LayoutModel",
          "model_module_version": "1.2.0",
          "state": {
            "_model_module": "@jupyter-widgets/base",
            "_model_module_version": "1.2.0",
            "_model_name": "LayoutModel",
            "_view_count": null,
            "_view_module": "@jupyter-widgets/base",
            "_view_module_version": "1.2.0",
            "_view_name": "LayoutView",
            "align_content": null,
            "align_items": null,
            "align_self": null,
            "border": null,
            "bottom": null,
            "display": null,
            "flex": null,
            "flex_flow": null,
            "grid_area": null,
            "grid_auto_columns": null,
            "grid_auto_flow": null,
            "grid_auto_rows": null,
            "grid_column": null,
            "grid_gap": null,
            "grid_row": null,
            "grid_template_areas": null,
            "grid_template_columns": null,
            "grid_template_rows": null,
            "height": null,
            "justify_content": null,
            "justify_items": null,
            "left": null,
            "margin": null,
            "max_height": null,
            "max_width": null,
            "min_height": null,
            "min_width": null,
            "object_fit": null,
            "object_position": null,
            "order": null,
            "overflow": null,
            "overflow_x": null,
            "overflow_y": null,
            "padding": null,
            "right": null,
            "top": null,
            "visibility": null,
            "width": null
          }
        },
        "45f5380b610b43609f8d0f5b010fcabd": {
          "model_module": "@jupyter-widgets/base",
          "model_name": "LayoutModel",
          "model_module_version": "1.2.0",
          "state": {
            "_model_module": "@jupyter-widgets/base",
            "_model_module_version": "1.2.0",
            "_model_name": "LayoutModel",
            "_view_count": null,
            "_view_module": "@jupyter-widgets/base",
            "_view_module_version": "1.2.0",
            "_view_name": "LayoutView",
            "align_content": null,
            "align_items": null,
            "align_self": null,
            "border": null,
            "bottom": null,
            "display": null,
            "flex": null,
            "flex_flow": null,
            "grid_area": null,
            "grid_auto_columns": null,
            "grid_auto_flow": null,
            "grid_auto_rows": null,
            "grid_column": null,
            "grid_gap": null,
            "grid_row": null,
            "grid_template_areas": null,
            "grid_template_columns": null,
            "grid_template_rows": null,
            "height": null,
            "justify_content": null,
            "justify_items": null,
            "left": null,
            "margin": null,
            "max_height": null,
            "max_width": null,
            "min_height": null,
            "min_width": null,
            "object_fit": null,
            "object_position": null,
            "order": null,
            "overflow": null,
            "overflow_x": null,
            "overflow_y": null,
            "padding": null,
            "right": null,
            "top": null,
            "visibility": null,
            "width": null
          }
        },
        "3233883916204c22b10c970bf07d8009": {
          "model_module": "@jupyter-widgets/controls",
          "model_name": "DescriptionStyleModel",
          "model_module_version": "1.5.0",
          "state": {
            "_model_module": "@jupyter-widgets/controls",
            "_model_module_version": "1.5.0",
            "_model_name": "DescriptionStyleModel",
            "_view_count": null,
            "_view_module": "@jupyter-widgets/base",
            "_view_module_version": "1.2.0",
            "_view_name": "StyleView",
            "description_width": ""
          }
        },
        "316f4af3abf14d5b8546e32a2af1be49": {
          "model_module": "@jupyter-widgets/base",
          "model_name": "LayoutModel",
          "model_module_version": "1.2.0",
          "state": {
            "_model_module": "@jupyter-widgets/base",
            "_model_module_version": "1.2.0",
            "_model_name": "LayoutModel",
            "_view_count": null,
            "_view_module": "@jupyter-widgets/base",
            "_view_module_version": "1.2.0",
            "_view_name": "LayoutView",
            "align_content": null,
            "align_items": null,
            "align_self": null,
            "border": null,
            "bottom": null,
            "display": null,
            "flex": null,
            "flex_flow": null,
            "grid_area": null,
            "grid_auto_columns": null,
            "grid_auto_flow": null,
            "grid_auto_rows": null,
            "grid_column": null,
            "grid_gap": null,
            "grid_row": null,
            "grid_template_areas": null,
            "grid_template_columns": null,
            "grid_template_rows": null,
            "height": null,
            "justify_content": null,
            "justify_items": null,
            "left": null,
            "margin": null,
            "max_height": null,
            "max_width": null,
            "min_height": null,
            "min_width": null,
            "object_fit": null,
            "object_position": null,
            "order": null,
            "overflow": null,
            "overflow_x": null,
            "overflow_y": null,
            "padding": null,
            "right": null,
            "top": null,
            "visibility": null,
            "width": null
          }
        },
        "60e2dfe04f124af5ab79fd71fab6af32": {
          "model_module": "@jupyter-widgets/controls",
          "model_name": "ProgressStyleModel",
          "model_module_version": "1.5.0",
          "state": {
            "_model_module": "@jupyter-widgets/controls",
            "_model_module_version": "1.5.0",
            "_model_name": "ProgressStyleModel",
            "_view_count": null,
            "_view_module": "@jupyter-widgets/base",
            "_view_module_version": "1.2.0",
            "_view_name": "StyleView",
            "bar_color": null,
            "description_width": ""
          }
        },
        "ac965b9064b34acc9a1aeecfec62caa0": {
          "model_module": "@jupyter-widgets/base",
          "model_name": "LayoutModel",
          "model_module_version": "1.2.0",
          "state": {
            "_model_module": "@jupyter-widgets/base",
            "_model_module_version": "1.2.0",
            "_model_name": "LayoutModel",
            "_view_count": null,
            "_view_module": "@jupyter-widgets/base",
            "_view_module_version": "1.2.0",
            "_view_name": "LayoutView",
            "align_content": null,
            "align_items": null,
            "align_self": null,
            "border": null,
            "bottom": null,
            "display": null,
            "flex": null,
            "flex_flow": null,
            "grid_area": null,
            "grid_auto_columns": null,
            "grid_auto_flow": null,
            "grid_auto_rows": null,
            "grid_column": null,
            "grid_gap": null,
            "grid_row": null,
            "grid_template_areas": null,
            "grid_template_columns": null,
            "grid_template_rows": null,
            "height": null,
            "justify_content": null,
            "justify_items": null,
            "left": null,
            "margin": null,
            "max_height": null,
            "max_width": null,
            "min_height": null,
            "min_width": null,
            "object_fit": null,
            "object_position": null,
            "order": null,
            "overflow": null,
            "overflow_x": null,
            "overflow_y": null,
            "padding": null,
            "right": null,
            "top": null,
            "visibility": null,
            "width": null
          }
        },
        "b6d30f11d9ae454ba41e9aa93bb4d362": {
          "model_module": "@jupyter-widgets/controls",
          "model_name": "DescriptionStyleModel",
          "model_module_version": "1.5.0",
          "state": {
            "_model_module": "@jupyter-widgets/controls",
            "_model_module_version": "1.5.0",
            "_model_name": "DescriptionStyleModel",
            "_view_count": null,
            "_view_module": "@jupyter-widgets/base",
            "_view_module_version": "1.2.0",
            "_view_name": "StyleView",
            "description_width": ""
          }
        },
        "c94bfc310a864508bdda52982b500f81": {
          "model_module": "@jupyter-widgets/controls",
          "model_name": "HBoxModel",
          "model_module_version": "1.5.0",
          "state": {
            "_dom_classes": [],
            "_model_module": "@jupyter-widgets/controls",
            "_model_module_version": "1.5.0",
            "_model_name": "HBoxModel",
            "_view_count": null,
            "_view_module": "@jupyter-widgets/controls",
            "_view_module_version": "1.5.0",
            "_view_name": "HBoxView",
            "box_style": "",
            "children": [
              "IPY_MODEL_1d376c2d88e3426aac7ae8ef15733bc8",
              "IPY_MODEL_e8547e1c5ed14f58b7ab81b5db151a02",
              "IPY_MODEL_56b8cb5e41d6450b8f542d96f8666f9f"
            ],
            "layout": "IPY_MODEL_54090f4904de48cf8f03910f7ba47f8b"
          }
        },
        "1d376c2d88e3426aac7ae8ef15733bc8": {
          "model_module": "@jupyter-widgets/controls",
          "model_name": "HTMLModel",
          "model_module_version": "1.5.0",
          "state": {
            "_dom_classes": [],
            "_model_module": "@jupyter-widgets/controls",
            "_model_module_version": "1.5.0",
            "_model_name": "HTMLModel",
            "_view_count": null,
            "_view_module": "@jupyter-widgets/controls",
            "_view_module_version": "1.5.0",
            "_view_name": "HTMLView",
            "description": "",
            "description_tooltip": null,
            "layout": "IPY_MODEL_14e2a7929a164668ad22fdb4c94cb42a",
            "placeholder": "​",
            "style": "IPY_MODEL_21fd432d420945d78abf772568e51fc6",
            "value": "100%"
          }
        },
        "e8547e1c5ed14f58b7ab81b5db151a02": {
          "model_module": "@jupyter-widgets/controls",
          "model_name": "FloatProgressModel",
          "model_module_version": "1.5.0",
          "state": {
            "_dom_classes": [],
            "_model_module": "@jupyter-widgets/controls",
            "_model_module_version": "1.5.0",
            "_model_name": "FloatProgressModel",
            "_view_count": null,
            "_view_module": "@jupyter-widgets/controls",
            "_view_module_version": "1.5.0",
            "_view_name": "ProgressView",
            "bar_style": "success",
            "description": "",
            "description_tooltip": null,
            "layout": "IPY_MODEL_24a4c07d5b154a41a245a19e74ccd7f7",
            "max": 553433881,
            "min": 0,
            "orientation": "horizontal",
            "style": "IPY_MODEL_499610007c4644c59fcd4c88b0bc06cc",
            "value": 553433881
          }
        },
        "56b8cb5e41d6450b8f542d96f8666f9f": {
          "model_module": "@jupyter-widgets/controls",
          "model_name": "HTMLModel",
          "model_module_version": "1.5.0",
          "state": {
            "_dom_classes": [],
            "_model_module": "@jupyter-widgets/controls",
            "_model_module_version": "1.5.0",
            "_model_name": "HTMLModel",
            "_view_count": null,
            "_view_module": "@jupyter-widgets/controls",
            "_view_module_version": "1.5.0",
            "_view_name": "HTMLView",
            "description": "",
            "description_tooltip": null,
            "layout": "IPY_MODEL_603c9d3705f94a60b9189e84cfbb505a",
            "placeholder": "​",
            "style": "IPY_MODEL_a769a25086c24f5a87c5d5614cc769f7",
            "value": " 528M/528M [00:02&lt;00:00, 234MB/s]"
          }
        },
        "54090f4904de48cf8f03910f7ba47f8b": {
          "model_module": "@jupyter-widgets/base",
          "model_name": "LayoutModel",
          "model_module_version": "1.2.0",
          "state": {
            "_model_module": "@jupyter-widgets/base",
            "_model_module_version": "1.2.0",
            "_model_name": "LayoutModel",
            "_view_count": null,
            "_view_module": "@jupyter-widgets/base",
            "_view_module_version": "1.2.0",
            "_view_name": "LayoutView",
            "align_content": null,
            "align_items": null,
            "align_self": null,
            "border": null,
            "bottom": null,
            "display": null,
            "flex": null,
            "flex_flow": null,
            "grid_area": null,
            "grid_auto_columns": null,
            "grid_auto_flow": null,
            "grid_auto_rows": null,
            "grid_column": null,
            "grid_gap": null,
            "grid_row": null,
            "grid_template_areas": null,
            "grid_template_columns": null,
            "grid_template_rows": null,
            "height": null,
            "justify_content": null,
            "justify_items": null,
            "left": null,
            "margin": null,
            "max_height": null,
            "max_width": null,
            "min_height": null,
            "min_width": null,
            "object_fit": null,
            "object_position": null,
            "order": null,
            "overflow": null,
            "overflow_x": null,
            "overflow_y": null,
            "padding": null,
            "right": null,
            "top": null,
            "visibility": null,
            "width": null
          }
        },
        "14e2a7929a164668ad22fdb4c94cb42a": {
          "model_module": "@jupyter-widgets/base",
          "model_name": "LayoutModel",
          "model_module_version": "1.2.0",
          "state": {
            "_model_module": "@jupyter-widgets/base",
            "_model_module_version": "1.2.0",
            "_model_name": "LayoutModel",
            "_view_count": null,
            "_view_module": "@jupyter-widgets/base",
            "_view_module_version": "1.2.0",
            "_view_name": "LayoutView",
            "align_content": null,
            "align_items": null,
            "align_self": null,
            "border": null,
            "bottom": null,
            "display": null,
            "flex": null,
            "flex_flow": null,
            "grid_area": null,
            "grid_auto_columns": null,
            "grid_auto_flow": null,
            "grid_auto_rows": null,
            "grid_column": null,
            "grid_gap": null,
            "grid_row": null,
            "grid_template_areas": null,
            "grid_template_columns": null,
            "grid_template_rows": null,
            "height": null,
            "justify_content": null,
            "justify_items": null,
            "left": null,
            "margin": null,
            "max_height": null,
            "max_width": null,
            "min_height": null,
            "min_width": null,
            "object_fit": null,
            "object_position": null,
            "order": null,
            "overflow": null,
            "overflow_x": null,
            "overflow_y": null,
            "padding": null,
            "right": null,
            "top": null,
            "visibility": null,
            "width": null
          }
        },
        "21fd432d420945d78abf772568e51fc6": {
          "model_module": "@jupyter-widgets/controls",
          "model_name": "DescriptionStyleModel",
          "model_module_version": "1.5.0",
          "state": {
            "_model_module": "@jupyter-widgets/controls",
            "_model_module_version": "1.5.0",
            "_model_name": "DescriptionStyleModel",
            "_view_count": null,
            "_view_module": "@jupyter-widgets/base",
            "_view_module_version": "1.2.0",
            "_view_name": "StyleView",
            "description_width": ""
          }
        },
        "24a4c07d5b154a41a245a19e74ccd7f7": {
          "model_module": "@jupyter-widgets/base",
          "model_name": "LayoutModel",
          "model_module_version": "1.2.0",
          "state": {
            "_model_module": "@jupyter-widgets/base",
            "_model_module_version": "1.2.0",
            "_model_name": "LayoutModel",
            "_view_count": null,
            "_view_module": "@jupyter-widgets/base",
            "_view_module_version": "1.2.0",
            "_view_name": "LayoutView",
            "align_content": null,
            "align_items": null,
            "align_self": null,
            "border": null,
            "bottom": null,
            "display": null,
            "flex": null,
            "flex_flow": null,
            "grid_area": null,
            "grid_auto_columns": null,
            "grid_auto_flow": null,
            "grid_auto_rows": null,
            "grid_column": null,
            "grid_gap": null,
            "grid_row": null,
            "grid_template_areas": null,
            "grid_template_columns": null,
            "grid_template_rows": null,
            "height": null,
            "justify_content": null,
            "justify_items": null,
            "left": null,
            "margin": null,
            "max_height": null,
            "max_width": null,
            "min_height": null,
            "min_width": null,
            "object_fit": null,
            "object_position": null,
            "order": null,
            "overflow": null,
            "overflow_x": null,
            "overflow_y": null,
            "padding": null,
            "right": null,
            "top": null,
            "visibility": null,
            "width": null
          }
        },
        "499610007c4644c59fcd4c88b0bc06cc": {
          "model_module": "@jupyter-widgets/controls",
          "model_name": "ProgressStyleModel",
          "model_module_version": "1.5.0",
          "state": {
            "_model_module": "@jupyter-widgets/controls",
            "_model_module_version": "1.5.0",
            "_model_name": "ProgressStyleModel",
            "_view_count": null,
            "_view_module": "@jupyter-widgets/base",
            "_view_module_version": "1.2.0",
            "_view_name": "StyleView",
            "bar_color": null,
            "description_width": ""
          }
        },
        "603c9d3705f94a60b9189e84cfbb505a": {
          "model_module": "@jupyter-widgets/base",
          "model_name": "LayoutModel",
          "model_module_version": "1.2.0",
          "state": {
            "_model_module": "@jupyter-widgets/base",
            "_model_module_version": "1.2.0",
            "_model_name": "LayoutModel",
            "_view_count": null,
            "_view_module": "@jupyter-widgets/base",
            "_view_module_version": "1.2.0",
            "_view_name": "LayoutView",
            "align_content": null,
            "align_items": null,
            "align_self": null,
            "border": null,
            "bottom": null,
            "display": null,
            "flex": null,
            "flex_flow": null,
            "grid_area": null,
            "grid_auto_columns": null,
            "grid_auto_flow": null,
            "grid_auto_rows": null,
            "grid_column": null,
            "grid_gap": null,
            "grid_row": null,
            "grid_template_areas": null,
            "grid_template_columns": null,
            "grid_template_rows": null,
            "height": null,
            "justify_content": null,
            "justify_items": null,
            "left": null,
            "margin": null,
            "max_height": null,
            "max_width": null,
            "min_height": null,
            "min_width": null,
            "object_fit": null,
            "object_position": null,
            "order": null,
            "overflow": null,
            "overflow_x": null,
            "overflow_y": null,
            "padding": null,
            "right": null,
            "top": null,
            "visibility": null,
            "width": null
          }
        },
        "a769a25086c24f5a87c5d5614cc769f7": {
          "model_module": "@jupyter-widgets/controls",
          "model_name": "DescriptionStyleModel",
          "model_module_version": "1.5.0",
          "state": {
            "_model_module": "@jupyter-widgets/controls",
            "_model_module_version": "1.5.0",
            "_model_name": "DescriptionStyleModel",
            "_view_count": null,
            "_view_module": "@jupyter-widgets/base",
            "_view_module_version": "1.2.0",
            "_view_name": "StyleView",
            "description_width": ""
          }
        }
      }
    }
  },
  "cells": [
    {
      "cell_type": "markdown",
      "metadata": {
        "id": "view-in-github",
        "colab_type": "text"
      },
      "source": [
        "<a href=\"https://colab.research.google.com/github/mmouree/Data-mining-project/blob/main/Image_classification_VGG16.ipynb\" target=\"_parent\"><img src=\"https://colab.research.google.com/assets/colab-badge.svg\" alt=\"Open In Colab\"/></a>"
      ]
    },
    {
      "cell_type": "code",
      "source": [
        "import torch\n",
        "import time\n",
        "import numpy as np\n",
        "import torch\n",
        "import torch.nn as nn\n",
        "import torch.nn.functional as F\n",
        "from torchvision import datasets\n",
        "from torchvision import transforms\n",
        "from torch.utils.data import DataLoader\n",
        "\n",
        "#######################################\n",
        "### PRE-TRAINED MODELS AVAILABLE HERE\n",
        "## https://pytorch.org/docs/stable/torchvision/models.html\n",
        "from torchvision import models\n",
        "#######################################\n",
        "\n",
        "if torch.cuda.is_available():\n",
        "    torch.backends.cudnn.deterministic = True"
      ],
      "metadata": {
        "id": "8lypDiTHCxgg"
      },
      "execution_count": 1,
      "outputs": []
    },
    {
      "cell_type": "code",
      "source": [
        "##########################\n",
        "### SETTINGS\n",
        "##########################\n",
        "\n",
        "# Device\n",
        "DEVICE = torch.device(\"cuda:0\" if torch.cuda.is_available() else \"cpu\")\n",
        "print('Device:', DEVICE)\n",
        "\n",
        "NUM_CLASSES = 10\n",
        "\n",
        "# Hyperparameters\n",
        "random_seed = 1\n",
        "learning_rate = 0.0001\n",
        "num_epochs = 10\n",
        "batch_size = 128\n",
        "\n",
        "\n",
        "##########################\n",
        "### MNIST DATASET\n",
        "##########################\n",
        "\n",
        "custom_transform = transforms.Compose([\n",
        "    transforms.Resize((224, 224)),\n",
        "    transforms.ToTensor(),\n",
        "    transforms.Normalize(mean=[0.485, 0.456, 0.406],\n",
        "                          std=[0.229, 0.224, 0.225])\n",
        "])\n",
        "\n",
        "## Note that this particular normalization scheme is\n",
        "## necessary since it was used for pre-training\n",
        "## the network on ImageNet.\n",
        "## These are the channel-means and standard deviations\n",
        "## for z-score normalization.\n",
        "\n",
        "\n",
        "train_dataset = datasets.CIFAR10(root='data', \n",
        "                                 train=True, \n",
        "                                 transform=custom_transform,\n",
        "                                 download=True)\n",
        "\n",
        "test_dataset = datasets.CIFAR10(root='data', \n",
        "                                train=False, \n",
        "                                transform=custom_transform)\n",
        "\n",
        "\n",
        "train_loader = DataLoader(dataset=train_dataset, \n",
        "                          batch_size=batch_size, \n",
        "                          num_workers=8,\n",
        "                          shuffle=True)\n",
        "\n",
        "test_loader = DataLoader(dataset=test_dataset, \n",
        "                         batch_size=batch_size, \n",
        "                         num_workers=8,\n",
        "                         shuffle=False)\n",
        "\n",
        "# Checking the dataset\n",
        "for images, labels in train_loader:  \n",
        "    print('Image batch dimensions:', images.shape)\n",
        "    print('Image label dimensions:', labels.shape)\n",
        "    break"
      ],
      "metadata": {
        "colab": {
          "base_uri": "https://localhost:8080/",
          "height": 191,
          "referenced_widgets": [
            "83cae1f224614de7807059d5413975c1",
            "263ae629ab2d434a8927da2edb2c0424",
            "f57d36cbae9c4f1d813c82672dacd66c",
            "7f8e728f1a3947eda9bfc85012dac002",
            "04c3eb271ba94cbd91adc21d2f30ed90",
            "45f5380b610b43609f8d0f5b010fcabd",
            "3233883916204c22b10c970bf07d8009",
            "316f4af3abf14d5b8546e32a2af1be49",
            "60e2dfe04f124af5ab79fd71fab6af32",
            "ac965b9064b34acc9a1aeecfec62caa0",
            "b6d30f11d9ae454ba41e9aa93bb4d362"
          ]
        },
        "id": "76kkDSlACxkm",
        "outputId": "3dae5a20-a362-4a8d-fcd4-80d94f81e8f4"
      },
      "execution_count": 2,
      "outputs": [
        {
          "output_type": "stream",
          "name": "stdout",
          "text": [
            "Device: cuda:0\n",
            "Downloading https://www.cs.toronto.edu/~kriz/cifar-10-python.tar.gz to data/cifar-10-python.tar.gz\n"
          ]
        },
        {
          "output_type": "display_data",
          "data": {
            "text/plain": [
              "  0%|          | 0/170498071 [00:00<?, ?it/s]"
            ],
            "application/vnd.jupyter.widget-view+json": {
              "version_major": 2,
              "version_minor": 0,
              "model_id": "83cae1f224614de7807059d5413975c1"
            }
          },
          "metadata": {}
        },
        {
          "output_type": "stream",
          "name": "stdout",
          "text": [
            "Extracting data/cifar-10-python.tar.gz to data\n"
          ]
        },
        {
          "output_type": "stream",
          "name": "stderr",
          "text": [
            "/usr/local/lib/python3.7/dist-packages/torch/utils/data/dataloader.py:490: UserWarning: This DataLoader will create 8 worker processes in total. Our suggested max number of worker in current system is 2, which is smaller than what this DataLoader is going to create. Please be aware that excessive worker creation might get DataLoader running slow or even freeze, lower the worker number to avoid potential slowness/freeze if necessary.\n",
            "  cpuset_checked))\n"
          ]
        },
        {
          "output_type": "stream",
          "name": "stdout",
          "text": [
            "Image batch dimensions: torch.Size([128, 3, 224, 224])\n",
            "Image label dimensions: torch.Size([128])\n"
          ]
        }
      ]
    },
    {
      "cell_type": "code",
      "source": [
        "model = models.vgg16(pretrained=True)\n",
        "\n",
        "for param in model.parameters():\n",
        "    param.requires_grad = False\n",
        "\n",
        "model.classifier[3].requires_grad = True\n",
        "\n",
        "model.classifier[6] = nn.Sequential(\n",
        "                      nn.Linear(4096, 512), \n",
        "                      nn.ReLU(), \n",
        "                      nn.Dropout(0.5),\n",
        "                      nn.Linear(512, NUM_CLASSES))"
      ],
      "metadata": {
        "colab": {
          "base_uri": "https://localhost:8080/",
          "height": 67,
          "referenced_widgets": [
            "c94bfc310a864508bdda52982b500f81",
            "1d376c2d88e3426aac7ae8ef15733bc8",
            "e8547e1c5ed14f58b7ab81b5db151a02",
            "56b8cb5e41d6450b8f542d96f8666f9f",
            "54090f4904de48cf8f03910f7ba47f8b",
            "14e2a7929a164668ad22fdb4c94cb42a",
            "21fd432d420945d78abf772568e51fc6",
            "24a4c07d5b154a41a245a19e74ccd7f7",
            "499610007c4644c59fcd4c88b0bc06cc",
            "603c9d3705f94a60b9189e84cfbb505a",
            "a769a25086c24f5a87c5d5614cc769f7"
          ]
        },
        "id": "ryzDP3BQCxo5",
        "outputId": "5af1cc8a-0171-443d-81d5-0088f08330ff"
      },
      "execution_count": 3,
      "outputs": [
        {
          "output_type": "stream",
          "name": "stderr",
          "text": [
            "Downloading: \"https://download.pytorch.org/models/vgg16-397923af.pth\" to /root/.cache/torch/hub/checkpoints/vgg16-397923af.pth\n"
          ]
        },
        {
          "output_type": "display_data",
          "data": {
            "text/plain": [
              "  0%|          | 0.00/528M [00:00<?, ?B/s]"
            ],
            "application/vnd.jupyter.widget-view+json": {
              "version_major": 2,
              "version_minor": 0,
              "model_id": "c94bfc310a864508bdda52982b500f81"
            }
          },
          "metadata": {}
        }
      ]
    },
    {
      "cell_type": "code",
      "source": [
        "model = model.to(DEVICE)\n",
        "optimizer = torch.optim.Adam(model.parameters())"
      ],
      "metadata": {
        "id": "OcxRUyzkCxsU"
      },
      "execution_count": 4,
      "outputs": []
    },
    {
      "cell_type": "code",
      "source": [
        "def compute_accuracy(model, data_loader):\n",
        "    model.eval()\n",
        "    correct_pred, num_examples = 0, 0\n",
        "    for i, (features, targets) in enumerate(data_loader):\n",
        "            \n",
        "        features = features.to(DEVICE)\n",
        "        targets = targets.to(DEVICE)\n",
        "\n",
        "        logits = model(features)\n",
        "        _, predicted_labels = torch.max(logits, 1)\n",
        "        num_examples += targets.size(0)\n",
        "        correct_pred += (predicted_labels == targets).sum()\n",
        "    return correct_pred.float()/num_examples * 100\n",
        "\n",
        "\n",
        "def compute_epoch_loss(model, data_loader):\n",
        "    model.eval()\n",
        "    curr_loss, num_examples = 0., 0\n",
        "    with torch.no_grad():\n",
        "        for features, targets in data_loader:\n",
        "            features = features.to(DEVICE)\n",
        "            targets = targets.to(DEVICE)\n",
        "            logits = model(features)\n",
        "            loss = F.cross_entropy(logits, targets, reduction='sum')\n",
        "            num_examples += targets.size(0)\n",
        "            curr_loss += loss\n",
        "\n",
        "        curr_loss = curr_loss / num_examples\n",
        "        return curr_loss\n",
        "    \n",
        "    \n",
        "\n",
        "start_time = time.time()\n",
        "for epoch in range(num_epochs):\n",
        "    \n",
        "    model.train()\n",
        "    for batch_idx, (features, targets) in enumerate(train_loader):\n",
        "        \n",
        "        features = features.to(DEVICE)\n",
        "        targets = targets.to(DEVICE)\n",
        "            \n",
        "        ### FORWARD AND BACK PROP\n",
        "        logits = model(features)\n",
        "        cost = F.cross_entropy(logits, targets)\n",
        "        optimizer.zero_grad()\n",
        "        \n",
        "        cost.backward()\n",
        "        \n",
        "        ### UPDATE MODEL PARAMETERS\n",
        "        optimizer.step()\n",
        "        \n",
        "        ### LOGGING\n",
        "        if not batch_idx % 50:\n",
        "            print ('Epoch: %03d/%03d | Batch %04d/%04d | Cost: %.4f' \n",
        "                   %(epoch+1, num_epochs, batch_idx, \n",
        "                     len(train_loader), cost))\n",
        "\n",
        "    model.eval()\n",
        "    with torch.set_grad_enabled(False): # save memory during inference\n",
        "        print('Epoch: %03d/%03d | Train: %.3f%% | Loss: %.3f' % (\n",
        "              epoch+1, num_epochs, \n",
        "              compute_accuracy(model, train_loader),\n",
        "              compute_epoch_loss(model, train_loader)))\n",
        "\n",
        "\n",
        "    print('Time elapsed: %.2f min' % ((time.time() - start_time)/60))\n",
        "    \n",
        "print('Total Training Time: %.2f min' % ((time.time() - start_time)/60))"
      ],
      "metadata": {
        "colab": {
          "base_uri": "https://localhost:8080/"
        },
        "id": "e4iaeyikCxwN",
        "outputId": "599cc778-eb89-4ada-af59-dffa20250a60"
      },
      "execution_count": 5,
      "outputs": [
        {
          "output_type": "stream",
          "name": "stderr",
          "text": [
            "/usr/local/lib/python3.7/dist-packages/torch/utils/data/dataloader.py:490: UserWarning: This DataLoader will create 8 worker processes in total. Our suggested max number of worker in current system is 2, which is smaller than what this DataLoader is going to create. Please be aware that excessive worker creation might get DataLoader running slow or even freeze, lower the worker number to avoid potential slowness/freeze if necessary.\n",
            "  cpuset_checked))\n"
          ]
        },
        {
          "output_type": "stream",
          "name": "stdout",
          "text": [
            "Epoch: 001/010 | Batch 0000/0391 | Cost: 2.3498\n",
            "Epoch: 001/010 | Batch 0050/0391 | Cost: 0.7315\n",
            "Epoch: 001/010 | Batch 0100/0391 | Cost: 0.6488\n",
            "Epoch: 001/010 | Batch 0150/0391 | Cost: 0.6784\n",
            "Epoch: 001/010 | Batch 0200/0391 | Cost: 0.7769\n",
            "Epoch: 001/010 | Batch 0250/0391 | Cost: 0.6753\n",
            "Epoch: 001/010 | Batch 0300/0391 | Cost: 0.6229\n",
            "Epoch: 001/010 | Batch 0350/0391 | Cost: 0.6007\n",
            "Epoch: 001/010 | Train: 83.574% | Loss: 0.470\n",
            "Time elapsed: 22.67 min\n",
            "Epoch: 002/010 | Batch 0000/0391 | Cost: 0.6820\n",
            "Epoch: 002/010 | Batch 0050/0391 | Cost: 0.5406\n",
            "Epoch: 002/010 | Batch 0100/0391 | Cost: 0.6718\n",
            "Epoch: 002/010 | Batch 0150/0391 | Cost: 0.7834\n",
            "Epoch: 002/010 | Batch 0200/0391 | Cost: 0.5641\n",
            "Epoch: 002/010 | Batch 0250/0391 | Cost: 0.5911\n",
            "Epoch: 002/010 | Batch 0300/0391 | Cost: 0.6643\n",
            "Epoch: 002/010 | Batch 0350/0391 | Cost: 0.5914\n",
            "Epoch: 002/010 | Train: 84.532% | Loss: 0.446\n",
            "Time elapsed: 45.36 min\n",
            "Epoch: 003/010 | Batch 0000/0391 | Cost: 0.4356\n",
            "Epoch: 003/010 | Batch 0050/0391 | Cost: 0.5407\n",
            "Epoch: 003/010 | Batch 0100/0391 | Cost: 0.5279\n",
            "Epoch: 003/010 | Batch 0150/0391 | Cost: 0.5451\n",
            "Epoch: 003/010 | Batch 0200/0391 | Cost: 0.4157\n",
            "Epoch: 003/010 | Batch 0250/0391 | Cost: 0.4392\n",
            "Epoch: 003/010 | Batch 0300/0391 | Cost: 0.5605\n",
            "Epoch: 003/010 | Batch 0350/0391 | Cost: 0.5548\n",
            "Epoch: 003/010 | Train: 85.966% | Loss: 0.409\n",
            "Time elapsed: 68.04 min\n",
            "Epoch: 004/010 | Batch 0000/0391 | Cost: 0.6654\n",
            "Epoch: 004/010 | Batch 0050/0391 | Cost: 0.3878\n",
            "Epoch: 004/010 | Batch 0100/0391 | Cost: 0.5429\n",
            "Epoch: 004/010 | Batch 0150/0391 | Cost: 0.5183\n",
            "Epoch: 004/010 | Batch 0200/0391 | Cost: 0.4417\n",
            "Epoch: 004/010 | Batch 0250/0391 | Cost: 0.5644\n",
            "Epoch: 004/010 | Batch 0300/0391 | Cost: 0.5833\n",
            "Epoch: 004/010 | Batch 0350/0391 | Cost: 0.4575\n",
            "Epoch: 004/010 | Train: 86.512% | Loss: 0.403\n",
            "Time elapsed: 90.73 min\n",
            "Epoch: 005/010 | Batch 0000/0391 | Cost: 0.5427\n",
            "Epoch: 005/010 | Batch 0050/0391 | Cost: 0.7969\n",
            "Epoch: 005/010 | Batch 0100/0391 | Cost: 0.4920\n",
            "Epoch: 005/010 | Batch 0150/0391 | Cost: 0.5267\n",
            "Epoch: 005/010 | Batch 0200/0391 | Cost: 0.4863\n",
            "Epoch: 005/010 | Batch 0250/0391 | Cost: 0.5358\n",
            "Epoch: 005/010 | Batch 0300/0391 | Cost: 0.5257\n",
            "Epoch: 005/010 | Batch 0350/0391 | Cost: 0.6205\n",
            "Epoch: 005/010 | Train: 87.320% | Loss: 0.376\n",
            "Time elapsed: 113.40 min\n",
            "Epoch: 006/010 | Batch 0000/0391 | Cost: 0.5171\n",
            "Epoch: 006/010 | Batch 0050/0391 | Cost: 0.3815\n",
            "Epoch: 006/010 | Batch 0100/0391 | Cost: 0.4220\n",
            "Epoch: 006/010 | Batch 0150/0391 | Cost: 0.5228\n",
            "Epoch: 006/010 | Batch 0200/0391 | Cost: 0.6904\n",
            "Epoch: 006/010 | Batch 0250/0391 | Cost: 0.5009\n",
            "Epoch: 006/010 | Batch 0300/0391 | Cost: 0.5248\n",
            "Epoch: 006/010 | Batch 0350/0391 | Cost: 0.4633\n",
            "Epoch: 006/010 | Train: 87.718% | Loss: 0.361\n",
            "Time elapsed: 136.09 min\n",
            "Epoch: 007/010 | Batch 0000/0391 | Cost: 0.4544\n",
            "Epoch: 007/010 | Batch 0050/0391 | Cost: 0.3350\n",
            "Epoch: 007/010 | Batch 0100/0391 | Cost: 0.4823\n",
            "Epoch: 007/010 | Batch 0150/0391 | Cost: 0.4111\n",
            "Epoch: 007/010 | Batch 0200/0391 | Cost: 0.5154\n",
            "Epoch: 007/010 | Batch 0250/0391 | Cost: 0.5486\n",
            "Epoch: 007/010 | Batch 0300/0391 | Cost: 0.5832\n",
            "Epoch: 007/010 | Batch 0350/0391 | Cost: 0.5982\n",
            "Epoch: 007/010 | Train: 88.340% | Loss: 0.349\n",
            "Time elapsed: 158.77 min\n",
            "Epoch: 008/010 | Batch 0000/0391 | Cost: 0.3977\n",
            "Epoch: 008/010 | Batch 0050/0391 | Cost: 0.5898\n",
            "Epoch: 008/010 | Batch 0100/0391 | Cost: 0.5003\n",
            "Epoch: 008/010 | Batch 0150/0391 | Cost: 0.6723\n",
            "Epoch: 008/010 | Batch 0200/0391 | Cost: 0.6923\n",
            "Epoch: 008/010 | Batch 0250/0391 | Cost: 0.6258\n",
            "Epoch: 008/010 | Batch 0300/0391 | Cost: 0.4858\n",
            "Epoch: 008/010 | Batch 0350/0391 | Cost: 0.4347\n",
            "Epoch: 008/010 | Train: 88.206% | Loss: 0.342\n",
            "Time elapsed: 181.46 min\n",
            "Epoch: 009/010 | Batch 0000/0391 | Cost: 0.6633\n",
            "Epoch: 009/010 | Batch 0050/0391 | Cost: 0.6481\n",
            "Epoch: 009/010 | Batch 0100/0391 | Cost: 0.4232\n",
            "Epoch: 009/010 | Batch 0150/0391 | Cost: 0.5478\n",
            "Epoch: 009/010 | Batch 0200/0391 | Cost: 0.4859\n",
            "Epoch: 009/010 | Batch 0250/0391 | Cost: 0.4554\n",
            "Epoch: 009/010 | Batch 0300/0391 | Cost: 0.6050\n",
            "Epoch: 009/010 | Batch 0350/0391 | Cost: 0.5216\n",
            "Epoch: 009/010 | Train: 88.422% | Loss: 0.334\n",
            "Time elapsed: 204.14 min\n",
            "Epoch: 010/010 | Batch 0000/0391 | Cost: 0.5705\n",
            "Epoch: 010/010 | Batch 0050/0391 | Cost: 0.5942\n",
            "Epoch: 010/010 | Batch 0100/0391 | Cost: 0.5272\n",
            "Epoch: 010/010 | Batch 0150/0391 | Cost: 0.4267\n",
            "Epoch: 010/010 | Batch 0200/0391 | Cost: 0.5163\n",
            "Epoch: 010/010 | Batch 0250/0391 | Cost: 0.5890\n",
            "Epoch: 010/010 | Batch 0300/0391 | Cost: 0.5368\n",
            "Epoch: 010/010 | Batch 0350/0391 | Cost: 0.6595\n",
            "Epoch: 010/010 | Train: 88.282% | Loss: 0.337\n",
            "Time elapsed: 226.83 min\n",
            "Total Training Time: 226.83 min\n"
          ]
        }
      ]
    },
    {
      "cell_type": "code",
      "source": [
        "with torch.set_grad_enabled(False): # save memory during inference\n",
        "    print('Test accuracy: %.2f%%' % (compute_accuracy(model, test_loader)))"
      ],
      "metadata": {
        "colab": {
          "base_uri": "https://localhost:8080/"
        },
        "id": "ezPweu9cDWjp",
        "outputId": "069d2824-7b8a-494b-fd96-a286a860fbed"
      },
      "execution_count": 7,
      "outputs": [
        {
          "output_type": "stream",
          "name": "stderr",
          "text": [
            "/usr/local/lib/python3.7/dist-packages/torch/utils/data/dataloader.py:490: UserWarning: This DataLoader will create 8 worker processes in total. Our suggested max number of worker in current system is 2, which is smaller than what this DataLoader is going to create. Please be aware that excessive worker creation might get DataLoader running slow or even freeze, lower the worker number to avoid potential slowness/freeze if necessary.\n",
            "  cpuset_checked))\n"
          ]
        },
        {
          "output_type": "stream",
          "name": "stdout",
          "text": [
            "Test accuracy: 84.00%\n"
          ]
        }
      ]
    },
    {
      "cell_type": "code",
      "source": [
        "%matplotlib inline\n",
        "import matplotlib.pyplot as plt"
      ],
      "metadata": {
        "id": "K9FQAULqkFZQ"
      },
      "execution_count": 8,
      "outputs": []
    },
    {
      "cell_type": "code",
      "source": [
        "classes = ('plane', 'car', 'bird', 'cat',\n",
        "           'deer', 'dog', 'frog', 'horse', 'ship', 'truck')\n",
        "\n",
        "for batch_idx, (features, targets) in enumerate(test_loader):\n",
        "\n",
        "    features = features\n",
        "    targets = targets\n",
        "    break\n",
        "\n",
        "logits = model(features.to(DEVICE))\n",
        "_, predicted_labels = torch.max(logits, 1)\n",
        "    "
      ],
      "metadata": {
        "colab": {
          "base_uri": "https://localhost:8080/"
        },
        "id": "2kHLgLhJDWvC",
        "outputId": "57507c95-2554-41f3-995d-35b0cb5bb933"
      },
      "execution_count": 9,
      "outputs": [
        {
          "output_type": "stream",
          "name": "stderr",
          "text": [
            "/usr/local/lib/python3.7/dist-packages/torch/utils/data/dataloader.py:490: UserWarning: This DataLoader will create 8 worker processes in total. Our suggested max number of worker in current system is 2, which is smaller than what this DataLoader is going to create. Please be aware that excessive worker creation might get DataLoader running slow or even freeze, lower the worker number to avoid potential slowness/freeze if necessary.\n",
            "  cpuset_checked))\n"
          ]
        }
      ]
    },
    {
      "cell_type": "code",
      "source": [
        "def unnormalize(tensor, mean, std):\n",
        "    for t, m, s in zip(tensor, mean, std):\n",
        "        t.mul_(s).add_(m)\n",
        "    return tensor\n",
        "\n",
        "n_images = 10\n",
        "\n",
        "fig, axes = plt.subplots(nrows=1, ncols=n_images, \n",
        "                         sharex=True, sharey=True, figsize=(20, 2.5))\n",
        "orig_images = features[:n_images]\n",
        "\n",
        "for i in range(n_images):\n",
        "    curr_img = orig_images[i].detach().to(torch.device('cpu'))\n",
        "    curr_img = unnormalize(curr_img,\n",
        "                           torch.tensor([0.485, 0.456, 0.406]),\n",
        "                           torch.tensor([0.229, 0.224, 0.225])) \n",
        "    curr_img = curr_img.permute((1, 2, 0))\n",
        "    axes[i].imshow(curr_img)\n",
        "    axes[i].set_title(classes[predicted_labels[i]])"
      ],
      "metadata": {
        "colab": {
          "base_uri": "https://localhost:8080/",
          "height": 158
        },
        "id": "6RTMPpVGCx3g",
        "outputId": "bf5d0eb6-b965-44a2-8a76-a1e67f0ef705"
      },
      "execution_count": 10,
      "outputs": [
        {
          "output_type": "display_data",
          "data": {
            "text/plain": [
              "<Figure size 1440x180 with 10 Axes>"
            ],
            "image/png": "[encoded data removed]"
          },
          "metadata": {
            "needs_background": "light"
          }
        }
      ]
    }
  ]
}